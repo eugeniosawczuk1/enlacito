{
 "cells": [
  {
   "cell_type": "code",
   "execution_count": null,
   "id": "4ed3e222",
   "metadata": {},
   "outputs": [
    {
     "name": "stdout",
     "output_type": "stream",
     "text": [
      "URL original: https://ar.cienradios.com/sociedad/el-secreto-del-ritual-con-agua-hirviendo-para-atraer-rapidamente-dinero-y-prosperidad-cuando-se-puede-hacer/\n",
      "URL acortada: http://localhost:8080/3\n"
     ]
    }
   ],
   "source": [
    "import requests\n",
    "\n",
    "url = \"https://radiomitre.cienradios.com/politica/paro-y-marcha-de-la-cgt-como-es-el-mapa-de-cortes-en-el-congreso/\"\n",
    "url_2 = \"https://ar.cienradios.com/sociedad/el-secreto-del-ritual-con-sal-para-atrae-el-dinero-y-las-oportunidades-a-tu-vida-cuando-hay-que-hacerlo/\"\n",
    "url_3 = \"https://ar.cienradios.com/sociedad/el-secreto-del-ritual-con-agua-hirviendo-para-atraer-rapidamente-dinero-y-prosperidad-cuando-se-puede-hacer/\"\n",
    "params = {\n",
    "    \"username\": \"admin\",\n",
    "    \"password\": \"admin123\",\n",
    "    \"action\": \"shorturl\",\n",
    "    \"url\": url_3,\n",
    "    \"format\": \"json\"\n",
    "}git\n",
    "\n",
    "response = requests.post(\"http://localhost:8080/yourls-api.php\", data=params)\n",
    "data = response.json()\n",
    "\n",
    "print(\"URL original:\", params[\"url\"])\n",
    "print(\"URL acortada:\", data[\"shorturl\"])\n"
   ]
  }
 ],
 "metadata": {
  "kernelspec": {
   "display_name": "Python 3",
   "language": "python",
   "name": "python3"
  },
  "language_info": {
   "codemirror_mode": {
    "name": "ipython",
    "version": 3
   },
   "file_extension": ".py",
   "mimetype": "text/x-python",
   "name": "python",
   "nbconvert_exporter": "python",
   "pygments_lexer": "ipython3",
   "version": "3.13.2"
  }
 },
 "nbformat": 4,
 "nbformat_minor": 5
}
